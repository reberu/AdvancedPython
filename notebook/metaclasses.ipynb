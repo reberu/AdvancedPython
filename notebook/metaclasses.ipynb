{
 "cells": [
  {
   "cell_type": "code",
   "execution_count": 1,
   "metadata": {},
   "outputs": [],
   "source": [
    "Sample = type('Sample', tuple(), {})"
   ]
  },
  {
   "cell_type": "code",
   "execution_count": 3,
   "metadata": {},
   "outputs": [],
   "source": [
    "smp = Sample()"
   ]
  },
  {
   "cell_type": "code",
   "execution_count": 4,
   "metadata": {},
   "outputs": [
    {
     "data": {
      "text/plain": [
       "'Test'"
      ]
     },
     "execution_count": 4,
     "metadata": {},
     "output_type": "execute_result"
    }
   ],
   "source": [
    "smp.name = 'Test'\n",
    "smp.name"
   ]
  },
  {
   "cell_type": "code",
   "execution_count": 17,
   "metadata": {},
   "outputs": [],
   "source": [
    "class SingletonMeta(type):\n",
    "    def __init__(self, *args, **kwargs):\n",
    "        self.__instance = None\n",
    "        super().__init__(*args, **kwargs)\n",
    "        \n",
    "    def __call__(self, *args, **kwargs):\n",
    "        if not self.__instance:\n",
    "            self.__instance = super().__call__(*args, **kwargs)\n",
    "        return self.__instance"
   ]
  },
  {
   "cell_type": "code",
   "execution_count": 18,
   "metadata": {},
   "outputs": [],
   "source": [
    "class Sample(metaclass=SingletonMeta):\n",
    "    def __init__(self, name):\n",
    "        self._name = name\n",
    "        \n",
    "    @property\n",
    "    def name(self):\n",
    "        return self._name"
   ]
  },
  {
   "cell_type": "code",
   "execution_count": 19,
   "metadata": {},
   "outputs": [
    {
     "data": {
      "text/plain": [
       "'original'"
      ]
     },
     "execution_count": 19,
     "metadata": {},
     "output_type": "execute_result"
    }
   ],
   "source": [
    "smp = Sample('original')\n",
    "smp.name"
   ]
  },
  {
   "cell_type": "code",
   "execution_count": 20,
   "metadata": {},
   "outputs": [
    {
     "data": {
      "text/plain": [
       "'original'"
      ]
     },
     "execution_count": 20,
     "metadata": {},
     "output_type": "execute_result"
    }
   ],
   "source": [
    "smp = Sample('copy')\n",
    "smp.name"
   ]
  },
  {
   "cell_type": "code",
   "execution_count": 52,
   "metadata": {},
   "outputs": [],
   "source": [
    "class ContainerMeta(type):\n",
    "    def __init__(self, *args, **kwargs):\n",
    "        self.__instances = {}\n",
    "        super().__init__(*args, **kwargs)\n",
    "        \n",
    "    def __call__(self, name, *args, **kwargs):\n",
    "        if not name in self.__instances:\n",
    "            instance = super().__call__(name, *args, **kwargs)\n",
    "            self.__instances[name] = instance\n",
    "        else:\n",
    "            instance = self.__instances.get(name)\n",
    "        return instance"
   ]
  },
  {
   "cell_type": "code",
   "execution_count": 53,
   "metadata": {},
   "outputs": [],
   "source": [
    "class Sample(metaclass=ContainerMeta):\n",
    "    def __init__(self, name, age):\n",
    "        self._name = name\n",
    "        self._age = age\n",
    "        \n",
    "    @property\n",
    "    def name(self):\n",
    "        return self._name\n",
    "    \n",
    "    @property\n",
    "    def age(self):\n",
    "        return self._age"
   ]
  },
  {
   "cell_type": "code",
   "execution_count": 59,
   "metadata": {},
   "outputs": [
    {
     "data": {
      "text/plain": [
       "12"
      ]
     },
     "execution_count": 59,
     "metadata": {},
     "output_type": "execute_result"
    }
   ],
   "source": [
    "smp = Sample('original', 12)\n",
    "smp.age"
   ]
  },
  {
   "cell_type": "code",
   "execution_count": 60,
   "metadata": {},
   "outputs": [
    {
     "data": {
      "text/plain": [
       "12"
      ]
     },
     "execution_count": 60,
     "metadata": {},
     "output_type": "execute_result"
    }
   ],
   "source": [
    "smp = Sample('original', 13)\n",
    "smp.age"
   ]
  },
  {
   "cell_type": "code",
   "execution_count": 65,
   "metadata": {},
   "outputs": [],
   "source": [
    "smp = Sample('copy', 111)\n",
    "smp._age = 111"
   ]
  },
  {
   "cell_type": "code",
   "execution_count": 66,
   "metadata": {},
   "outputs": [
    {
     "data": {
      "text/plain": [
       "111"
      ]
     },
     "execution_count": 66,
     "metadata": {},
     "output_type": "execute_result"
    }
   ],
   "source": [
    "smp = Sample('copy', 432)\n",
    "smp.age"
   ]
  },
  {
   "cell_type": "code",
   "execution_count": 71,
   "metadata": {},
   "outputs": [
    {
     "name": "stdout",
     "output_type": "stream",
     "text": [
      "SimpleEnum.ATTR1\n",
      "SimpleEnum.ATTR2\n"
     ]
    }
   ],
   "source": [
    "import enum\n",
    "\n",
    "\n",
    "class SimpleEnum(enum.Enum):\n",
    "    ATTR1 = 'Test1'\n",
    "    ATTR2 = 'Test3'\n",
    "    \n",
    "SimpleEnum.ATTR1.value\n",
    "\n",
    "for itm in SimpleEnum:\n",
    "    print(itm)"
   ]
  },
  {
   "cell_type": "code",
   "execution_count": 77,
   "metadata": {},
   "outputs": [],
   "source": [
    "from enum import EnumMeta\n",
    "\n",
    "\n",
    "class SampleEnumMeta(EnumMeta):\n",
    "    def __iter__(cls):\n",
    "        for name in cls._member_names_:\n",
    "            member = cls._member_map_.get(name)\n",
    "            yield (member.name, member.value)\n",
    "            "
   ]
  },
  {
   "cell_type": "code",
   "execution_count": 78,
   "metadata": {},
   "outputs": [
    {
     "name": "stdout",
     "output_type": "stream",
     "text": [
      "('ATTR1', 'Test1')\n",
      "('ATTR2', 'Test3')\n"
     ]
    }
   ],
   "source": [
    "import enum\n",
    "\n",
    "\n",
    "class SimpleEnum(enum.Enum, metaclass=SampleEnumMeta):\n",
    "    ATTR1 = 'Test1'\n",
    "    ATTR2 = 'Test3'\n",
    "    \n",
    "SimpleEnum.ATTR1.value\n",
    "\n",
    "for itm in SimpleEnum:\n",
    "    print(itm)"
   ]
  },
  {
   "cell_type": "code",
   "execution_count": 4,
   "metadata": {},
   "outputs": [
    {
     "name": "stdout",
     "output_type": "stream",
     "text": [
      "Disassembly of __new__:\n",
      "529           0 LOAD_GLOBAL              0 (type)\n",
      "              2 LOAD_FAST                1 (value)\n",
      "              4 CALL_FUNCTION            1\n",
      "              6 LOAD_FAST                0 (cls)\n",
      "              8 COMPARE_OP               8 (is)\n",
      "             10 POP_JUMP_IF_FALSE       16\n",
      "\n",
      "531          12 LOAD_FAST                1 (value)\n",
      "             14 RETURN_VALUE\n",
      "\n",
      "534     >>   16 SETUP_EXCEPT            24 (to 42)\n",
      "\n",
      "535          18 LOAD_FAST                1 (value)\n",
      "             20 LOAD_FAST                0 (cls)\n",
      "             22 LOAD_ATTR                1 (_value2member_map_)\n",
      "             24 COMPARE_OP               6 (in)\n",
      "             26 POP_JUMP_IF_FALSE       38\n",
      "\n",
      "536          28 LOAD_FAST                0 (cls)\n",
      "             30 LOAD_ATTR                1 (_value2member_map_)\n",
      "             32 LOAD_FAST                1 (value)\n",
      "             34 BINARY_SUBSCR\n",
      "             36 RETURN_VALUE\n",
      "        >>   38 POP_BLOCK\n",
      "             40 JUMP_FORWARD            54 (to 96)\n",
      "\n",
      "537     >>   42 DUP_TOP\n",
      "             44 LOAD_GLOBAL              2 (TypeError)\n",
      "             46 COMPARE_OP              10 (exception match)\n",
      "             48 POP_JUMP_IF_FALSE       94\n",
      "             50 POP_TOP\n",
      "             52 POP_TOP\n",
      "             54 POP_TOP\n",
      "\n",
      "539          56 SETUP_LOOP              32 (to 90)\n",
      "             58 LOAD_FAST                0 (cls)\n",
      "             60 LOAD_ATTR                3 (_member_map_)\n",
      "             62 LOAD_METHOD              4 (values)\n",
      "             64 CALL_METHOD              0\n",
      "             66 GET_ITER\n",
      "        >>   68 FOR_ITER                18 (to 88)\n",
      "             70 STORE_FAST               2 (member)\n",
      "\n",
      "540          72 LOAD_FAST                2 (member)\n",
      "             74 LOAD_ATTR                5 (_value_)\n",
      "             76 LOAD_FAST                1 (value)\n",
      "             78 COMPARE_OP               2 (==)\n",
      "             80 POP_JUMP_IF_FALSE       68\n",
      "\n",
      "541          82 LOAD_FAST                2 (member)\n",
      "             84 RETURN_VALUE\n",
      "             86 JUMP_ABSOLUTE           68\n",
      "        >>   88 POP_BLOCK\n",
      "        >>   90 POP_EXCEPT\n",
      "             92 JUMP_FORWARD             2 (to 96)\n",
      "        >>   94 END_FINALLY\n",
      "\n",
      "543     >>   96 LOAD_FAST                0 (cls)\n",
      "             98 LOAD_METHOD              6 (_missing_)\n",
      "            100 LOAD_FAST                1 (value)\n",
      "            102 CALL_METHOD              1\n",
      "            104 RETURN_VALUE\n",
      "\n",
      "Disassembly of _generate_next_value_:\n",
      "546           0 SETUP_LOOP              50 (to 52)\n",
      "              2 LOAD_GLOBAL              0 (reversed)\n",
      "              4 LOAD_FAST                3 (last_values)\n",
      "              6 CALL_FUNCTION            1\n",
      "              8 GET_ITER\n",
      "        >>   10 FOR_ITER                34 (to 46)\n",
      "             12 STORE_FAST               4 (last_value)\n",
      "\n",
      "547          14 SETUP_EXCEPT             8 (to 24)\n",
      "\n",
      "548          16 LOAD_FAST                4 (last_value)\n",
      "             18 LOAD_CONST               1 (1)\n",
      "             20 BINARY_ADD\n",
      "             22 RETURN_VALUE\n",
      "\n",
      "549     >>   24 DUP_TOP\n",
      "             26 LOAD_GLOBAL              1 (TypeError)\n",
      "             28 COMPARE_OP              10 (exception match)\n",
      "             30 POP_JUMP_IF_FALSE       42\n",
      "             32 POP_TOP\n",
      "             34 POP_TOP\n",
      "             36 POP_TOP\n",
      "\n",
      "550          38 POP_EXCEPT\n",
      "             40 JUMP_ABSOLUTE           10\n",
      "        >>   42 END_FINALLY\n",
      "             44 JUMP_ABSOLUTE           10\n",
      "        >>   46 POP_BLOCK\n",
      "\n",
      "552          48 LOAD_FAST                1 (start)\n",
      "             50 RETURN_VALUE\n",
      "        >>   52 LOAD_CONST               0 (None)\n",
      "             54 RETURN_VALUE\n",
      "\n",
      "Disassembly of _member_type_:\n",
      "\n"
     ]
    }
   ],
   "source": [
    "import dis\n",
    "import enum\n",
    "\n",
    "class SimpleEnum(enum.Enum):\n",
    "    ATTR1 = 'Test1'\n",
    "    ATTR2 = 'Test3'\n",
    "    \n",
    "dis.dis(SimpleEnum)"
   ]
  },
  {
   "cell_type": "code",
   "execution_count": null,
   "metadata": {},
   "outputs": [],
   "source": []
  }
 ],
 "metadata": {
  "kernelspec": {
   "display_name": "Python 3",
   "language": "python",
   "name": "python3"
  },
  "language_info": {
   "codemirror_mode": {
    "name": "ipython",
    "version": 3
   },
   "file_extension": ".py",
   "mimetype": "text/x-python",
   "name": "python",
   "nbconvert_exporter": "python",
   "pygments_lexer": "ipython3",
   "version": "3.7.1"
  }
 },
 "nbformat": 4,
 "nbformat_minor": 2
}
