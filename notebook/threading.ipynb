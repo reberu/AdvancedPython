{
 "cells": [
  {
   "cell_type": "code",
   "execution_count": 3,
   "metadata": {},
   "outputs": [],
   "source": [
    "import time\n",
    "import threading"
   ]
  },
  {
   "cell_type": "code",
   "execution_count": 9,
   "metadata": {},
   "outputs": [],
   "source": [
    "THREADS_NUM = 5"
   ]
  },
  {
   "cell_type": "code",
   "execution_count": 5,
   "metadata": {},
   "outputs": [],
   "source": [
    "def sample(name, num):\n",
    "    for itm in range(1, num+1):\n",
    "        time.sleep(1)\n",
    "        print(f'{name} was called {itm} times')"
   ]
  },
  {
   "cell_type": "code",
   "execution_count": 6,
   "metadata": {},
   "outputs": [
    {
     "name": "stdout",
     "output_type": "stream",
     "text": [
      "cell-1 was called 1 times\n",
      "cell-1 was called 2 times\n",
      "cell-1 was called 3 times\n",
      "cell-1 was called 4 times\n",
      "cell-1 was called 5 times\n"
     ]
    }
   ],
   "source": [
    "sample('cell-1', 5)"
   ]
  },
  {
   "cell_type": "code",
   "execution_count": 8,
   "metadata": {},
   "outputs": [
    {
     "name": "stdout",
     "output_type": "stream",
     "text": [
      "thread was called 1 times\n",
      "cell-1 was called 1 times\n",
      "thread was called 2 timescell-1 was called 2 times\n",
      "\n",
      "cell-1 was called 3 timesthread was called 3 times\n",
      "\n",
      "cell-1 was called 4 timesthread was called 4 times\n",
      "\n",
      "thread was called 5 times\n",
      "cell-1 was called 5 times\n",
      "thread was called 6 times\n",
      "thread was called 7 times\n",
      "thread was called 8 times\n",
      "thread was called 9 times\n",
      "thread was called 10 times\n"
     ]
    }
   ],
   "source": [
    "thread = threading.Thread(target=sample, args=('thread', 10))\n",
    "thread.start()\n",
    "\n",
    "sample('cell-1', 5)"
   ]
  },
  {
   "cell_type": "code",
   "execution_count": 10,
   "metadata": {},
   "outputs": [
    {
     "name": "stdout",
     "output_type": "stream",
     "text": [
      "thread-1 was called 1 times\n",
      "thread-2 was called 1 times\n",
      "thread-3 was called 1 times\n",
      "thread-4 was called 1 times\n",
      "thread-5 was called 1 times\n",
      "thread-1 was called 2 timesthread-2 was called 2 times\n",
      "\n",
      "thread-3 was called 2 timesthread-4 was called 2 times\n",
      "\n",
      "thread-5 was called 2 times\n",
      "thread-1 was called 3 times\n",
      "thread-4 was called 3 times\n",
      "thread-2 was called 3 timesthread-3 was called 3 times\n",
      "\n",
      "thread-5 was called 3 times\n",
      "thread-1 was called 4 timesthread-2 was called 4 times\n",
      "thread-4 was called 4 times\n",
      "\n",
      "thread-3 was called 4 times\n",
      "thread-5 was called 4 times\n",
      "thread-2 was called 5 timesthread-4 was called 5 times\n",
      "\n",
      "thread-3 was called 5 times\n",
      "thread-5 was called 5 times\n",
      "thread-4 was called 6 timesthread-3 was called 6 times\n",
      "\n",
      "thread-5 was called 6 times\n",
      "thread-4 was called 7 times\n",
      "thread-5 was called 7 times\n",
      "thread-5 was called 8 times\n"
     ]
    }
   ],
   "source": [
    "for itm in range(1, THREADS_NUM+1):\n",
    "    num = 3 + itm\n",
    "    name = f'thread-{itm}'\n",
    "    thread = threading.Thread(target=sample, args=(name, num))\n",
    "    thread.start()"
   ]
  },
  {
   "cell_type": "code",
   "execution_count": 7,
   "metadata": {},
   "outputs": [],
   "source": [
    "lock = threading.Lock()\n",
    "\n",
    "def sample(name, num):\n",
    "    for itm in range(1, num+1):\n",
    "        time.sleep(1)\n",
    "        lock.acquire()\n",
    "        print(f'{name} was called {itm} times')\n",
    "        lock.release()"
   ]
  },
  {
   "cell_type": "code",
   "execution_count": 9,
   "metadata": {},
   "outputs": [
    {
     "name": "stdout",
     "output_type": "stream",
     "text": [
      "thread was called 1 times\n",
      "cell-1 was called 1 times\n",
      "thread was called 2 times\n",
      "cell-1 was called 2 times\n",
      "thread was called 3 times\n",
      "cell-1 was called 3 times\n",
      "thread was called 4 times\n",
      "cell-1 was called 4 times\n",
      "thread was called 5 times\n",
      "cell-1 was called 5 times\n",
      "thread was called 6 times\n",
      "thread was called 7 times\n",
      "thread was called 8 times\n",
      "thread was called 9 times\n",
      "thread was called 10 times\n"
     ]
    }
   ],
   "source": [
    "thread = threading.Thread(target=sample_loc, args=('thread', 10))\n",
    "thread.start()\n",
    "\n",
    "sample_loc('cell-1', 5)"
   ]
  }
 ],
 "metadata": {
  "kernelspec": {
   "display_name": "Python 3",
   "language": "python",
   "name": "python3"
  },
  "language_info": {
   "codemirror_mode": {
    "name": "ipython",
    "version": 3
   },
   "file_extension": ".py",
   "mimetype": "text/x-python",
   "name": "python",
   "nbconvert_exporter": "python",
   "pygments_lexer": "ipython3",
   "version": "3.7.2"
  }
 },
 "nbformat": 4,
 "nbformat_minor": 2
}
