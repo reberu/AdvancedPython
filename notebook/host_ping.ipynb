{
 "cells": [
  {
   "cell_type": "code",
   "execution_count": 17,
   "metadata": {},
   "outputs": [
    {
     "name": "stdout",
     "output_type": "stream",
     "text": [
      "\r\n",
      "Обмен пакетами с 192.168.0.1 по с 32 байтами данных:\r\n",
      "Ответ от 192.168.0.1: число байт=32 время<1мс TTL=64\r\n",
      "Ответ от 192.168.0.1: число байт=32 время<1мс TTL=64\r\n",
      "Ответ от 192.168.0.1: число байт=32 время<1мс TTL=64\r\n",
      "Ответ от 192.168.0.1: число байт=32 время=5мс TTL=64\r\n",
      "\r\n",
      "Статистика Ping для 192.168.0.1:\r\n",
      "    Пакетов: отправлено = 4, получено = 4, потеряно = 0\r\n",
      "    (0% потерь)\r\n",
      "Приблизительное время приема-передачи в мс:\r\n",
      "    Минимальное = 0мсек, Максимальное = 5 мсек, Среднее = 1 мсек\r\n",
      "\n"
     ]
    }
   ],
   "source": [
    "import subprocess\n",
    "import ipaddress\n",
    "\n",
    "proc = subprocess.Popen(['ping', '192.168.0.1'], stdin=subprocess.PIPE, stdout=subprocess.PIPE, stderr=subprocess.PIPE)\n",
    "out = proc.stdout.read()\n",
    "print(out.decode('866'))"
   ]
  },
  {
   "cell_type": "code",
   "execution_count": 65,
   "metadata": {},
   "outputs": [],
   "source": [
    "def host_ping(ip_addresses):\n",
    "    for el in ip_addresses:\n",
    "        proc = subprocess.Popen(['ping', el], stdin=subprocess.PIPE, stdout=subprocess.PIPE, stderr=subprocess.PIPE)\n",
    "        out = proc.stdout.read()\n",
    "        #out.decode('866')\n",
    "        if b'(0%' in out:\n",
    "            print(f'Узел {el} доступен')\n",
    "        else:\n",
    "            print(f'Узел {el} недоступен')\n",
    "        \n",
    "        \n",
    "ip_addresses = []\n",
    "ip_addresses.append(str(ipaddress.ip_address('10.0.1.1')))\n",
    "ip_addresses.append(str(ipaddress.ip_address('192.168.0.1')))\n",
    "ip_net = ipaddress.ip_network('192.168.0.0/32')\n",
    "host_ping(ip_addresses)"
   ]
  },
  {
   "cell_type": "code",
   "execution_count": 81,
   "metadata": {},
   "outputs": [
    {
     "name": "stdout",
     "output_type": "stream",
     "text": [
      "Узел 192.168.1.1 недоступен\n",
      "Узел 192.168.1.2 недоступен\n",
      "Узел 192.168.1.3 недоступен\n",
      "Узел 192.168.1.4 недоступен\n",
      "Узел 192.168.1.5 недоступен\n",
      "Узел 192.168.1.6 недоступен\n",
      "Узел 192.168.1.7 недоступен\n",
      "Узел 192.168.1.8 недоступен\n",
      "Узел 192.168.1.9 недоступен\n",
      "Узел 192.168.1.10 недоступен\n",
      "Узел 192.168.1.11 недоступен\n",
      "Узел 192.168.1.12 недоступен\n",
      "Узел 192.168.1.13 недоступен\n",
      "Узел 192.168.1.14 недоступен\n"
     ]
    }
   ],
   "source": [
    "from subprocess import Popen, PIPE\n",
    "\n",
    "\n",
    "def host_range_ping(network):\n",
    "    for i in network.hosts():\n",
    "        i = str(i)\n",
    "        toping = Popen(['ping', '-n', '3', i], stdout=PIPE)\n",
    "        output = toping.communicate()[0]\n",
    "        hostalive = toping.returncode\n",
    "        if hostalive == 0:\n",
    "            print(f'Узел {i} доступен') \n",
    "        else:\n",
    "            print(f'Узел {i} недоступен')\n",
    "        \n",
    "network = ipaddress.ip_network('192.168.1.0/28')\n",
    "host_range_ping(network)\n"
   ]
  },
  {
   "cell_type": "code",
   "execution_count": 88,
   "metadata": {},
   "outputs": [
    {
     "name": "stdout",
     "output_type": "stream",
     "text": [
      "[('', '192.168.1.1'), ('', '192.168.1.2'), ('', '192.168.1.3'), ('', '192.168.1.4'), ('', '192.168.1.5'), ('', '192.168.1.6'), ('', '192.168.1.7'), ('', '192.168.1.8'), ('', '192.168.1.9'), ('', '192.168.1.10'), ('', '192.168.1.11'), ('', '192.168.1.12'), ('', '192.168.1.13'), ('', '192.168.1.14')]\n",
      "Reachable    Unreachable\n",
      "-----------  -------------\n",
      "             192.168.1.1\n",
      "             192.168.1.2\n",
      "             192.168.1.3\n",
      "             192.168.1.4\n",
      "             192.168.1.5\n",
      "             192.168.1.6\n",
      "             192.168.1.7\n",
      "             192.168.1.8\n",
      "             192.168.1.9\n",
      "             192.168.1.10\n",
      "             192.168.1.11\n",
      "             192.168.1.12\n",
      "             192.168.1.13\n",
      "             192.168.1.14\n"
     ]
    }
   ],
   "source": [
    "from subprocess import Popen, PIPE\n",
    "from tabulate import tabulate\n",
    "\n",
    "\n",
    "def host_range_ping_tab(network):\n",
    "    data = []\n",
    "    columns = ['Reachable', 'Unreachable']\n",
    "    for i in network.hosts():\n",
    "        i = str(i)\n",
    "        toping = Popen(['ping', '-n', '3', i], stdout=PIPE)\n",
    "        output = toping.communicate()[0]\n",
    "        hostalive = toping.returncode\n",
    "        if hostalive == 0:\n",
    "            data.append((i, ''))\n",
    "        else:\n",
    "            data.append(('', i))\n",
    "    print(data)\n",
    "    print(tabulate(data, headers=columns))\n",
    "        \n",
    "network = ipaddress.ip_network('192.168.1.0/28')\n",
    "host_range_ping_tab(network)"
   ]
  },
  {
   "cell_type": "code",
   "execution_count": null,
   "metadata": {},
   "outputs": [],
   "source": []
  }
 ],
 "metadata": {
  "kernelspec": {
   "display_name": "Python 3",
   "language": "python",
   "name": "python3"
  },
  "language_info": {
   "codemirror_mode": {
    "name": "ipython",
    "version": 3
   },
   "file_extension": ".py",
   "mimetype": "text/x-python",
   "name": "python",
   "nbconvert_exporter": "python",
   "pygments_lexer": "ipython3",
   "version": "3.7.1"
  }
 },
 "nbformat": 4,
 "nbformat_minor": 2
}
