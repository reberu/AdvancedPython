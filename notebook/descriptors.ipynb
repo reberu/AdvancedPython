{
 "cells": [
  {
   "cell_type": "code",
   "execution_count": 14,
   "metadata": {},
   "outputs": [],
   "source": [
    "class SimpleProperty:\n",
    "    def __init__(self, name, default=None):\n",
    "        self._name = f'_{name}'\n",
    "        self._default = default\n",
    "    \n",
    "    def __get__(self, instance, cls):\n",
    "        return getattr(instance, self._name, self._default)"
   ]
  },
  {
   "cell_type": "code",
   "execution_count": 15,
   "metadata": {},
   "outputs": [],
   "source": [
    "class Sample:\n",
    "    def __init__(self, name):\n",
    "        self._name = name\n",
    "        \n",
    "    name = SimpleProperty('name', 'Some text')"
   ]
  },
  {
   "cell_type": "code",
   "execution_count": 16,
   "metadata": {},
   "outputs": [
    {
     "data": {
      "text/plain": [
       "'Anton'"
      ]
     },
     "execution_count": 16,
     "metadata": {},
     "output_type": "execute_result"
    }
   ],
   "source": [
    "smp = Sample('Anton')\n",
    "\n",
    "smp.name"
   ]
  },
  {
   "cell_type": "code",
   "execution_count": 47,
   "metadata": {},
   "outputs": [],
   "source": [
    "class SimpleProperty:\n",
    "    def __init__(self, name, default=None):\n",
    "        self._name = f'_{name}'\n",
    "        self._default = default\n",
    "    \n",
    "    def __get__(self, instance, cls):\n",
    "        if not hasattr(instance, '__properties__'):\n",
    "            raise ValueError('instance should contains __properties__ attribute.')\n",
    "        props = instance.__properties__\n",
    "        return props.get(self._name, self._default)\n",
    "    \n",
    "    def __set__(self, instance, value):\n",
    "        instance.__properties__[self._name] = value\n",
    "        \n",
    "    def __delete__(self, instance):\n",
    "        instance.__properties__[self._name] = self._default"
   ]
  },
  {
   "cell_type": "code",
   "execution_count": 48,
   "metadata": {},
   "outputs": [],
   "source": [
    "class Sample:\n",
    "    __properties__ = {}\n",
    "    \n",
    "    def __init__(self, name):\n",
    "        pass\n",
    "        self.__properties__['_name'] = name\n",
    "        \n",
    "    name = SimpleProperty('name', 'Some text')"
   ]
  },
  {
   "cell_type": "code",
   "execution_count": 49,
   "metadata": {},
   "outputs": [
    {
     "data": {
      "text/plain": [
       "'Anton'"
      ]
     },
     "execution_count": 49,
     "metadata": {},
     "output_type": "execute_result"
    }
   ],
   "source": [
    "smp = Sample('Anton')\n",
    "\n",
    "smp.name"
   ]
  },
  {
   "cell_type": "code",
   "execution_count": 50,
   "metadata": {},
   "outputs": [
    {
     "data": {
      "text/plain": [
       "'Test'"
      ]
     },
     "execution_count": 50,
     "metadata": {},
     "output_type": "execute_result"
    }
   ],
   "source": [
    "smp.name = 'Test'\n",
    "smp.name"
   ]
  },
  {
   "cell_type": "code",
   "execution_count": 53,
   "metadata": {},
   "outputs": [
    {
     "data": {
      "text/plain": [
       "'Some text'"
      ]
     },
     "execution_count": 53,
     "metadata": {},
     "output_type": "execute_result"
    }
   ],
   "source": [
    "smp.name = 'Test'\n",
    "del smp.name\n",
    "smp.name"
   ]
  },
  {
   "cell_type": "code",
   "execution_count": 54,
   "metadata": {},
   "outputs": [
    {
     "data": {
      "text/plain": [
       "{'_name': 'Some text'}"
      ]
     },
     "execution_count": 54,
     "metadata": {},
     "output_type": "execute_result"
    }
   ],
   "source": [
    "smp.__properties__"
   ]
  }
 ],
 "metadata": {
  "kernelspec": {
   "display_name": "Python 3",
   "language": "python",
   "name": "python3"
  },
  "language_info": {
   "codemirror_mode": {
    "name": "ipython",
    "version": 3
   },
   "file_extension": ".py",
   "mimetype": "text/x-python",
   "name": "python",
   "nbconvert_exporter": "python",
   "pygments_lexer": "ipython3",
   "version": "3.7.1"
  }
 },
 "nbformat": 4,
 "nbformat_minor": 2
}
